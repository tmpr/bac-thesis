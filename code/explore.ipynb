{
 "cells": [
  {
   "cell_type": "code",
   "execution_count": 1,
   "metadata": {},
   "outputs": [],
   "source": [
    "import plotly.express as px\n",
    "import pyfaidx "
   ]
  },
  {
   "cell_type": "code",
   "execution_count": 2,
   "metadata": {},
   "outputs": [
    {
     "ename": "FastaNotFoundError",
     "evalue": "Cannot read FASTA from file IRP002547.fasta",
     "output_type": "error",
     "traceback": [
      "\u001b[0;31m---------------------------------------------------------------------------\u001b[0m",
      "\u001b[0;31mFileNotFoundError\u001b[0m                         Traceback (most recent call last)",
      "File \u001b[0;32m~/opt/miniconda3/envs/nblosum/lib/python3.11/site-packages/pyfaidx/__init__.py:398\u001b[0m, in \u001b[0;36mFaidx.__init__\u001b[0;34m(self, filename, indexname, default_seq, key_function, as_raw, strict_bounds, read_ahead, mutable, split_char, duplicate_action, filt_function, one_based_attributes, read_long_names, sequence_always_upper, rebuild, build_index)\u001b[0m\n\u001b[1;32m    397\u001b[0m \u001b[39mtry\u001b[39;00m:\n\u001b[0;32m--> 398\u001b[0m     \u001b[39mself\u001b[39m\u001b[39m.\u001b[39mfile \u001b[39m=\u001b[39m \u001b[39mopen\u001b[39;49m(filename, \u001b[39m'\u001b[39;49m\u001b[39mr+b\u001b[39;49m\u001b[39m'\u001b[39;49m \u001b[39mif\u001b[39;49;00m mutable \u001b[39melse\u001b[39;49;00m \u001b[39m'\u001b[39;49m\u001b[39mrb\u001b[39;49m\u001b[39m'\u001b[39;49m)\n\u001b[1;32m    399\u001b[0m \u001b[39mexcept\u001b[39;00m \u001b[39mIOError\u001b[39;00m:\n",
      "\u001b[0;31mFileNotFoundError\u001b[0m: [Errno 2] No such file or directory: 'IRP002547.fasta'",
      "\nDuring handling of the above exception, another exception occurred:\n",
      "\u001b[0;31mFastaNotFoundError\u001b[0m                        Traceback (most recent call last)",
      "Cell \u001b[0;32mIn[2], line 1\u001b[0m\n\u001b[0;32m----> 1\u001b[0m genes \u001b[39m=\u001b[39m pyfaidx\u001b[39m.\u001b[39;49mFasta(\u001b[39m\"\u001b[39;49m\u001b[39mIRP002547.fasta\u001b[39;49m\u001b[39m\"\u001b[39;49m)\n",
      "File \u001b[0;32m~/opt/miniconda3/envs/nblosum/lib/python3.11/site-packages/pyfaidx/__init__.py:1096\u001b[0m, in \u001b[0;36mFasta.__init__\u001b[0;34m(self, filename, indexname, default_seq, key_function, as_raw, strict_bounds, read_ahead, mutable, split_char, filt_function, one_based_attributes, read_long_names, duplicate_action, sequence_always_upper, rebuild, build_index)\u001b[0m\n\u001b[1;32m   1090\u001b[0m \u001b[39m\u001b[39m\u001b[39m\"\"\"\u001b[39;00m\n\u001b[1;32m   1091\u001b[0m \u001b[39mAn object that provides a pygr compatible interface.\u001b[39;00m\n\u001b[1;32m   1092\u001b[0m \u001b[39mfilename:  name of fasta file or fsspec.core.OpenFile instance\u001b[39;00m\n\u001b[1;32m   1093\u001b[0m \u001b[39mindexname: name of index file or fsspec.core.OpenFile instance\u001b[39;00m\n\u001b[1;32m   1094\u001b[0m \u001b[39m\"\"\"\u001b[39;00m\n\u001b[1;32m   1095\u001b[0m \u001b[39mself\u001b[39m\u001b[39m.\u001b[39mmutable \u001b[39m=\u001b[39m mutable\n\u001b[0;32m-> 1096\u001b[0m \u001b[39mself\u001b[39m\u001b[39m.\u001b[39mfaidx \u001b[39m=\u001b[39m Faidx(\n\u001b[1;32m   1097\u001b[0m     filename,\n\u001b[1;32m   1098\u001b[0m     indexname\u001b[39m=\u001b[39;49mindexname,\n\u001b[1;32m   1099\u001b[0m     key_function\u001b[39m=\u001b[39;49mkey_function,\n\u001b[1;32m   1100\u001b[0m     as_raw\u001b[39m=\u001b[39;49mas_raw,\n\u001b[1;32m   1101\u001b[0m     default_seq\u001b[39m=\u001b[39;49mdefault_seq,\n\u001b[1;32m   1102\u001b[0m     strict_bounds\u001b[39m=\u001b[39;49mstrict_bounds,\n\u001b[1;32m   1103\u001b[0m     read_ahead\u001b[39m=\u001b[39;49mread_ahead,\n\u001b[1;32m   1104\u001b[0m     mutable\u001b[39m=\u001b[39;49mmutable,\n\u001b[1;32m   1105\u001b[0m     split_char\u001b[39m=\u001b[39;49msplit_char,\n\u001b[1;32m   1106\u001b[0m     filt_function\u001b[39m=\u001b[39;49mfilt_function,\n\u001b[1;32m   1107\u001b[0m     one_based_attributes\u001b[39m=\u001b[39;49mone_based_attributes,\n\u001b[1;32m   1108\u001b[0m     read_long_names\u001b[39m=\u001b[39;49mread_long_names,\n\u001b[1;32m   1109\u001b[0m     duplicate_action\u001b[39m=\u001b[39;49mduplicate_action,\n\u001b[1;32m   1110\u001b[0m     sequence_always_upper\u001b[39m=\u001b[39;49msequence_always_upper,\n\u001b[1;32m   1111\u001b[0m     rebuild\u001b[39m=\u001b[39;49mrebuild,\n\u001b[1;32m   1112\u001b[0m     build_index\u001b[39m=\u001b[39;49mbuild_index)\n\u001b[1;32m   1114\u001b[0m \u001b[39mself\u001b[39m\u001b[39m.\u001b[39mfilename \u001b[39m=\u001b[39m \u001b[39mself\u001b[39m\u001b[39m.\u001b[39mfaidx\u001b[39m.\u001b[39mfilename\n\u001b[1;32m   1116\u001b[0m _record_constructor \u001b[39m=\u001b[39m MutableFastaRecord \u001b[39mif\u001b[39;00m \u001b[39mself\u001b[39m\u001b[39m.\u001b[39mmutable \u001b[39melse\u001b[39;00m FastaRecord\n",
      "File \u001b[0;32m~/opt/miniconda3/envs/nblosum/lib/python3.11/site-packages/pyfaidx/__init__.py:400\u001b[0m, in \u001b[0;36mFaidx.__init__\u001b[0;34m(self, filename, indexname, default_seq, key_function, as_raw, strict_bounds, read_ahead, mutable, split_char, duplicate_action, filt_function, one_based_attributes, read_long_names, sequence_always_upper, rebuild, build_index)\u001b[0m\n\u001b[1;32m    398\u001b[0m         \u001b[39mself\u001b[39m\u001b[39m.\u001b[39mfile \u001b[39m=\u001b[39m \u001b[39mopen\u001b[39m(filename, \u001b[39m'\u001b[39m\u001b[39mr+b\u001b[39m\u001b[39m'\u001b[39m \u001b[39mif\u001b[39;00m mutable \u001b[39melse\u001b[39;00m \u001b[39m'\u001b[39m\u001b[39mrb\u001b[39m\u001b[39m'\u001b[39m)\n\u001b[1;32m    399\u001b[0m     \u001b[39mexcept\u001b[39;00m \u001b[39mIOError\u001b[39;00m:\n\u001b[0;32m--> 400\u001b[0m         \u001b[39mraise\u001b[39;00m FastaNotFoundError(\u001b[39m\"\u001b[39m\u001b[39mCannot read FASTA from file \u001b[39m\u001b[39m%s\u001b[39;00m\u001b[39m\"\u001b[39m \u001b[39m%\u001b[39m filename)\n\u001b[1;32m    401\u001b[0m     \u001b[39mself\u001b[39m\u001b[39m.\u001b[39m_fs \u001b[39m=\u001b[39m \u001b[39mNone\u001b[39;00m\n\u001b[1;32m    403\u001b[0m \u001b[39melse\u001b[39;00m:\n",
      "\u001b[0;31mFastaNotFoundError\u001b[0m: Cannot read FASTA from file IRP002547.fasta"
     ]
    }
   ],
   "source": [
    "genes = pyfaidx.Fasta(\"IRP002547.fasta\")"
   ]
  },
  {
   "cell_type": "code",
   "execution_count": null,
   "metadata": {},
   "outputs": [],
   "source": []
  }
 ],
 "metadata": {
  "kernelspec": {
   "display_name": "nblosum",
   "language": "python",
   "name": "python3"
  },
  "language_info": {
   "codemirror_mode": {
    "name": "ipython",
    "version": 3
   },
   "file_extension": ".py",
   "mimetype": "text/x-python",
   "name": "python",
   "nbconvert_exporter": "python",
   "pygments_lexer": "ipython3",
   "version": "3.11.4"
  },
  "orig_nbformat": 4
 },
 "nbformat": 4,
 "nbformat_minor": 2
}
